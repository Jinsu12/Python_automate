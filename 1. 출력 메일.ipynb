import pyautogui
import time

select = int(input("출력할 메일을 입력해주세요"))
page_num = input("1 페이지는 기본으로 출력합니다, 몇페이지까지 출력할까요? 입력없이 엔터시 한 페이지만 출력 >> ")


x= 900
y = 302
print1 = 1690,165 # 전체화면 후 인쇄 클릭
print2 = 45,40 # 인쇄 클릭된 이후 다시 누르는 인쇄
page_setting = 61, 382 # 인쇄할 페이지 지정
first_mail = x, y
increase = 21 # 메일별 증가값, 다음 메일을 클릭하기 위해 증가되는 y 값

'''Functions'''

def full_screen():
    '''창 최대화'''
    pyautogui.keyDown('win')
    pyautogui.press('up')
    pyautogui.keyUp('win')

def choose_page():
    '''인쇄 클릭 후 출력할 페이지 클릭'''
    if page_num == "":
        pyautogui.click(61, 382) #좌측 인쇄 클릭
        time.sleep(1.5)
        pyautogui.press('enter')
    else:
        pyautogui.click(61, 382) #좌측 인쇄 클릭
        time.sleep(1.5)
        pyautogui.typewrite('1-'+ page_num)
        pyautogui.press('enter')
        
def wait_blank_click():
    time.sleep(1)
    pyautogui.click(900,250)
    time.sleep(0.2)

def print_process():
    time.sleep(1.5)
    pyautogui.moveTo(900, 900, 1)
    full_screen()
    time.sleep(1.8)
    pyautogui.doubleClick(print1)
    time.sleep(2)
    pyautogui.click(print2)
    time.sleep(1.5)
    choose_page()
    pyautogui.click(900, 300)
    wait_blank_click()
    
            
    
'''지정 출력'''
if select == 1:
    wait_blank_click()
    pyautogui.click(first_mail)
    print_process()
else:
    numb2 = int(input("몇번째 메일까지 출력할까요? >> "))
    additional = 0
    for _ in range(numb2-select):
        first_mail = x, y+(increase * ((select-1)+additional))
        wait_blank_click()
        pyautogui.click(first_mail)
        additional += 1
        print_process()
    
